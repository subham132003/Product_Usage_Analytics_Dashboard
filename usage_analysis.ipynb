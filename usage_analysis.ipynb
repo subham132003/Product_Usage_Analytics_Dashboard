import pandas as pd
import numpy as np


np.random.seed(42)

n = 500
data = {
    "user_id": np.arange(1, n+1),
    "signup_date": pd.date_range(start="2023-01-01", periods=n, freq="D"),
    "active_days": np.random.randint(1, 30, size=n),
    "sessions": np.random.randint(5, 100, size=n),
    "features_used": np.random.randint(1, 10, size=n),
    "avg_session_time_min": np.random.randint(2, 60, size=n),
    "churned": np.random.choice([0, 1], size=n, p=[0.7, 0.3])  # 0 = active, 1 = churned
}

df = pd.DataFrame(data)
df.head()
